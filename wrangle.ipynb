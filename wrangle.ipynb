{
 "cells": [
  {
   "cell_type": "markdown",
   "metadata": {},
   "source": [
    "### Wrangle Exercises\n",
    "\n",
    "This exercises uses the ```case.csv```, ```dept.csv```, and ```source.csv``` files from the San Antonio 311 call dataset."
   ]
  },
  {
   "cell_type": "markdown",
   "metadata": {},
   "source": [
    "#### Data Acquisition"
   ]
  },
  {
   "cell_type": "markdown",
   "metadata": {},
   "source": [
    "**1. Read the case, department, and source data into their own spark dataframes.**"
   ]
  },
  {
   "cell_type": "code",
   "execution_count": 1,
   "metadata": {},
   "outputs": [],
   "source": [
    "import pandas as pd\n",
    "import pyspark\n",
    "from pyspark.sql.functions import *\n",
    "from pyspark.sql.functions import to_date\n",
    "\n",
    "#create the spark session\n",
    "spark = pyspark.sql.SparkSession.builder.getOrCreate()"
   ]
  },
  {
   "cell_type": "code",
   "execution_count": 2,
   "metadata": {},
   "outputs": [],
   "source": [
    "# read each csv into its own spark dataframe\n",
    "case = spark.read.csv(\"case.csv\", sep=\",\", header=True, inferSchema=True)\n",
    "dept = spark.read.csv(\"dept.csv\", sep=\",\", header=True, inferSchema=True)\n",
    "source = spark.read.csv(\"source.csv\", sep=\",\", header=True, inferSchema=True)"
   ]
  },
  {
   "cell_type": "markdown",
   "metadata": {},
   "source": [
    "**2. Let's see how writing to the local disk works in spark:**\n",
    "\n",
    "- Write the code necessary to store the source data in both csv and json format, store these as ```sources_csv``` and ```sources_json```\n",
    "- Inspect your folder structure. What do you notice?\n",
    "\n",
    "<font color = 'blue'> A separate directory was generated to store the json and csv files."
   ]
  },
  {
   "cell_type": "code",
   "execution_count": 3,
   "metadata": {},
   "outputs": [],
   "source": [
    "# write to json\n",
    "source.write.json(\"source_json\", mode=\"overwrite\")\n",
    "\n",
    "# write to csv\n",
    "source.write.csv(\"source_csv\", mode=\"overwrite\")"
   ]
  },
  {
   "cell_type": "markdown",
   "metadata": {},
   "source": [
    "**3. Inspect the data in your dataframes. Are the data types appropriate? Write the code necessary to cast the values to the appropriate types.**"
   ]
  },
  {
   "cell_type": "code",
   "execution_count": 4,
   "metadata": {},
   "outputs": [
    {
     "name": "stdout",
     "output_type": "stream",
     "text": [
      "+---------+--------------------+\n",
      "|source_id|     source_username|\n",
      "+---------+--------------------+\n",
      "|   100137|    Merlene Blodgett|\n",
      "|   103582|         Carmen Cura|\n",
      "|   106463|     Richard Sanchez|\n",
      "|   119403|      Betty De Hoyos|\n",
      "|   119555|      Socorro Quiara|\n",
      "|   119868| Michelle San Miguel|\n",
      "|   120752|      Eva T. Kleiber|\n",
      "|   124405|           Lori Lara|\n",
      "|   132408|       Leonard Silva|\n",
      "|   135723|        Amy Cardenas|\n",
      "|   136202|    Michelle Urrutia|\n",
      "|   136979|      Leticia Garcia|\n",
      "|   137943|    Pamela K. Baccus|\n",
      "|   138605|        Marisa Ozuna|\n",
      "|   138650|      Kimberly Green|\n",
      "|   138650|Kimberly Green-Woods|\n",
      "|   138793| Guadalupe Rodriguez|\n",
      "|   138810|       Tawona Martin|\n",
      "|   139342|     Jessica Mendoza|\n",
      "|   139344|        Isis Mendoza|\n",
      "+---------+--------------------+\n",
      "only showing top 20 rows\n",
      "\n"
     ]
    }
   ],
   "source": [
    "source.show()"
   ]
  },
  {
   "cell_type": "code",
   "execution_count": 5,
   "metadata": {},
   "outputs": [
    {
     "name": "stdout",
     "output_type": "stream",
     "text": [
      "root\n",
      " |-- source_id: string (nullable = true)\n",
      " |-- source_username: string (nullable = true)\n",
      "\n"
     ]
    }
   ],
   "source": [
    "#look at schema to inspect data types\n",
    "source.printSchema()"
   ]
  },
  {
   "cell_type": "code",
   "execution_count": 6,
   "metadata": {},
   "outputs": [
    {
     "name": "stdout",
     "output_type": "stream",
     "text": [
      "root\n",
      " |-- source_id: integer (nullable = true)\n",
      " |-- source_username: string (nullable = true)\n",
      "\n"
     ]
    }
   ],
   "source": [
    "#cast source_id as an int\n",
    "source = source.withColumn('source_id', col('source_id').cast('int'))\n",
    "\n",
    "source.printSchema()"
   ]
  },
  {
   "cell_type": "markdown",
   "metadata": {},
   "source": [
    "#### Data Wrangle"
   ]
  },
  {
   "cell_type": "code",
   "execution_count": 7,
   "metadata": {},
   "outputs": [
    {
     "name": "stdout",
     "output_type": "stream",
     "text": [
      "-RECORD 0------------------------------------\n",
      " case_id              | 1014127332           \n",
      " case_opened_date     | 1/1/18 0:42          \n",
      " case_closed_date     | 1/1/18 12:29         \n",
      " SLA_due_date         | 9/26/20 0:42         \n",
      " case_late            | NO                   \n",
      " num_days_late        | -998.5087616000001   \n",
      " case_closed          | YES                  \n",
      " dept_division        | Field Operations     \n",
      " service_request_type | Stray Animal         \n",
      " SLA_days             | 999.0                \n",
      " case_status          | Closed               \n",
      " source_id            | svcCRMLS             \n",
      " request_address      | 2315  EL PASO ST,... \n",
      " council_district     | 5                    \n",
      "only showing top 1 row\n",
      "\n"
     ]
    }
   ],
   "source": [
    "# view list of cases\n",
    "case.show(1,vertical = True)"
   ]
  },
  {
   "cell_type": "code",
   "execution_count": 8,
   "metadata": {},
   "outputs": [],
   "source": [
    "#Rename column for reader clarity\n",
    "case = case.withColumnRenamed('SLA_due_date', 'case_due_date')\n",
    "\n",
    "# Change to appropriate data types\n",
    "case = (\n",
    "    case.withColumn('case_late', col('case_late') =='YES')\n",
    "    .withColumn('case_closed', col('case_closed') == 'YES')\n",
    ")\n",
    "\n",
    "case = case.withColumn('council_district',format_string('%04d', col('council_district')))\n",
    "case = (\n",
    "    case.withColumn('case_opened_date', to_timestamp(col('case_opened_date'), 'M/d/yy H:mm'))\n",
    "    .withColumn('case_closed_date', to_timestamp(col('case_closed_date'), 'M/d/yy H:mm'))\n",
    "    .withColumn('case_due_date', to_timestamp(col('case_due_date'), 'M/d/yy H:mm'))\n",
    ")\n",
    "\n",
    "\n",
    "\n",
    "# # Cleanup text data\n",
    "# df = df.withColumn('request_address', lower(trim(col('request_address'))))\n",
    "# # Extract zipcode\n",
    "# df = df.withColumn('zipcode', regexp_extract(col('request_address'), r'\\d+$', 0))\n",
    "\n",
    "# # Create a `case_lifetime` feature\n",
    "# df = (\n",
    "#     df.withColumn('case_age', datediff(current_timestamp(), 'case_opened_date'))\n",
    "#     .withColumn('days_to_closed', datediff('case_closed_date', 'case_opened_date'))\n",
    "#     .withColumn('case_lifetime', when(col('case_closed'), col('days_to_closed')).otherwise(col('case_age')))\n",
    "#     .drop('case_age', 'days_to_closed')\n",
    "# )\n",
    "\n",
    "# # Join departments and sources\n",
    "# depts = spark.read.csv('data/dept.csv', header=True, inferSchema=True)\n",
    "# sources = spark.read.csv('data/source.csv', header=True, inferSchema=True)\n",
    "\n",
    "# df = df.join(depts, 'dept_division', 'left').join(sources, 'source_id', 'left')\n",
    "\n",
    "# # # Train Test Split\n",
    "# # train, test = df.randomSplit([.8, .2], seed=123)\n",
    "# # train, validate, test = df.randomSplit([.7, .15, .15], seed=123)"
   ]
  },
  {
   "cell_type": "markdown",
   "metadata": {},
   "source": [
    "**1. How old is the latest (in terms of days past SLA) currently open issue?**"
   ]
  },
  {
   "cell_type": "code",
   "execution_count": 9,
   "metadata": {},
   "outputs": [],
   "source": [
    "#To query our dataframe with Spark SQL:\n",
    "case.createOrReplaceTempView('case')"
   ]
  },
  {
   "cell_type": "code",
   "execution_count": 12,
   "metadata": {},
   "outputs": [
    {
     "name": "stdout",
     "output_type": "stream",
     "text": [
      "+-------------+\n",
      "|days_past_due|\n",
      "+-------------+\n",
      "|         1581|\n",
      "|         1581|\n",
      "|         1581|\n",
      "|         1580|\n",
      "|         1578|\n",
      "+-------------+\n",
      "\n"
     ]
    }
   ],
   "source": [
    "spark.sql('''\n",
    "    SELECT datediff(current_timestamp, case_due_date) \n",
    "    AS days_past_due\n",
    "    FROM case\n",
    "    WHERE NOT case_closed\n",
    "    ORDER BY days_past_due DESC\n",
    "    LIMIT 5\n",
    "    '''\n",
    "         ).show()\n",
    "\n"
   ]
  },
  {
   "cell_type": "code",
   "execution_count": 13,
   "metadata": {},
   "outputs": [
    {
     "name": "stdout",
     "output_type": "stream",
     "text": [
      "-RECORD 0------------------------------------\n",
      " case_id              | 1013225646           \n",
      " case_opened_date     | 2017-01-01 13:48:00  \n",
      " case_closed_date     | null                 \n",
      " case_due_date        | 2017-01-17 08:30:00  \n",
      " case_late            | true                 \n",
      " num_days_late        | 348.6458333          \n",
      " case_closed          | false                \n",
      " dept_division        | Code Enforcement     \n",
      " service_request_type | No Address Posted    \n",
      " SLA_days             | 15.77859954          \n",
      " case_status          | Open                 \n",
      " source_id            | svcCRMSS             \n",
      " request_address      | 7299  SHADOW RIDG... \n",
      " council_district     | 0006                 \n",
      "only showing top 1 row\n",
      "\n"
     ]
    }
   ],
   "source": [
    "case.where(case.case_status == 'Open').sort(asc('case_opened_date')).show(1, vertical = True)\n"
   ]
  },
  {
   "cell_type": "code",
   "execution_count": 14,
   "metadata": {},
   "outputs": [
    {
     "name": "stdout",
     "output_type": "stream",
     "text": [
      "+--------+-----+\n",
      "|SLA_days|count|\n",
      "+--------+-----+\n",
      "|  1420.0|    1|\n",
      "+--------+-----+\n",
      "only showing top 1 row\n",
      "\n"
     ]
    }
   ],
   "source": [
    "case.groupby('SLA_days').count().sort(desc('SLA_days')).show(1)"
   ]
  },
  {
   "cell_type": "markdown",
   "metadata": {},
   "source": [
    "**How long has the oldest (in terms of days since opened) currently opened issue been open?**"
   ]
  },
  {
   "cell_type": "code",
   "execution_count": 15,
   "metadata": {},
   "outputs": [
    {
     "name": "stdout",
     "output_type": "stream",
     "text": [
      "-RECORD 0------------------------------------\n",
      " case_id              | 1014127332           \n",
      " case_opened_date     | 2018-01-01 00:42:00  \n",
      " case_closed_date     | 2018-01-01 12:29:00  \n",
      " case_due_date        | 2020-09-26 00:42:00  \n",
      " case_late            | false                \n",
      " num_days_late        | -998.5087616000001   \n",
      " case_closed          | true                 \n",
      " dept_division        | Field Operations     \n",
      " service_request_type | Stray Animal         \n",
      " SLA_days             | 999.0                \n",
      " case_status          | Closed               \n",
      " source_id            | svcCRMLS             \n",
      " request_address      | 2315  EL PASO ST,... \n",
      " council_district     | 0005                 \n",
      " age_in_days          | 1232                 \n",
      "only showing top 1 row\n",
      "\n"
     ]
    }
   ],
   "source": [
    "case.withColumn(\"age_in_days\", datediff(current_timestamp(), \"case_opened_date\")\n",
    ").show(1, vertical = True)"
   ]
  },
  {
   "cell_type": "markdown",
   "metadata": {},
   "source": [
    "**2.  How many Stray Animal cases are there?**"
   ]
  },
  {
   "cell_type": "code",
   "execution_count": 16,
   "metadata": {},
   "outputs": [
    {
     "data": {
      "text/plain": [
       "26760"
      ]
     },
     "execution_count": 16,
     "metadata": {},
     "output_type": "execute_result"
    }
   ],
   "source": [
    "# show a count of cases where the service request type is stray animal\n",
    "case.where(case.service_request_type == 'Stray Animal').count()"
   ]
  },
  {
   "cell_type": "markdown",
   "metadata": {},
   "source": [
    "**3. How many service requests that are assigned to the Field Operations department (```dept_division```) are not classified as \"Officer Standby\" request type (```service_request_type```)?**"
   ]
  },
  {
   "cell_type": "code",
   "execution_count": 20,
   "metadata": {},
   "outputs": [
    {
     "data": {
      "text/plain": [
       "113902"
      ]
     },
     "execution_count": 20,
     "metadata": {},
     "output_type": "execute_result"
    }
   ],
   "source": [
    "#filter first by service requests in field operations, then filter to include only those whose\n",
    "#request type is not equal to officer standby -- then count them\n",
    "\n",
    "(case.filter(case.dept_division == 'Field Operations')\n",
    "        .filter(case.service_request_type != 'Officer Standby')\n",
    "        .count()\n",
    ")\n"
   ]
  },
  {
   "cell_type": "markdown",
   "metadata": {},
   "source": [
    "**4. Convert the ```council_district``` column to a string column.**"
   ]
  },
  {
   "cell_type": "code",
   "execution_count": 21,
   "metadata": {},
   "outputs": [
    {
     "name": "stdout",
     "output_type": "stream",
     "text": [
      "root\n",
      " |-- case_id: integer (nullable = true)\n",
      " |-- case_opened_date: timestamp (nullable = true)\n",
      " |-- case_closed_date: timestamp (nullable = true)\n",
      " |-- case_due_date: timestamp (nullable = true)\n",
      " |-- case_late: boolean (nullable = true)\n",
      " |-- num_days_late: double (nullable = true)\n",
      " |-- case_closed: boolean (nullable = true)\n",
      " |-- dept_division: string (nullable = true)\n",
      " |-- service_request_type: string (nullable = true)\n",
      " |-- SLA_days: double (nullable = true)\n",
      " |-- case_status: string (nullable = true)\n",
      " |-- source_id: string (nullable = true)\n",
      " |-- request_address: string (nullable = true)\n",
      " |-- council_district: string (nullable = false)\n",
      "\n"
     ]
    }
   ],
   "source": [
    "# format column to string datatypes\n",
    "case = case.withColumn(\"council_district\",col(\"council_district\").cast(\"string\"))\n",
    "\n",
    "case.printSchema()"
   ]
  },
  {
   "cell_type": "markdown",
   "metadata": {},
   "source": [
    "**5. Extract the year from the ```case_closed_date``` column.**"
   ]
  },
  {
   "cell_type": "code",
   "execution_count": 22,
   "metadata": {},
   "outputs": [
    {
     "name": "stdout",
     "output_type": "stream",
     "text": [
      "+-------------------+----------------------+\n",
      "|   case_closed_date|year(case_closed_date)|\n",
      "+-------------------+----------------------+\n",
      "|2018-01-01 12:29:00|                  2018|\n",
      "|2018-01-03 08:11:00|                  2018|\n",
      "|2018-01-02 07:57:00|                  2018|\n",
      "|2018-01-02 08:13:00|                  2018|\n",
      "|2018-01-01 13:29:00|                  2018|\n",
      "+-------------------+----------------------+\n",
      "only showing top 5 rows\n",
      "\n"
     ]
    }
   ],
   "source": [
    "#select the year from the column, create a new column for the year\n",
    "case.select('case_closed_date', year('case_closed_date')).show(5)"
   ]
  },
  {
   "cell_type": "markdown",
   "metadata": {},
   "source": [
    "**6. Convert ```num_days_late``` from days to hours in new columns ```num_hours_late```.**"
   ]
  },
  {
   "cell_type": "code",
   "execution_count": 23,
   "metadata": {},
   "outputs": [
    {
     "name": "stdout",
     "output_type": "stream",
     "text": [
      "+-------------------+-------------------+\n",
      "|      num_days_late|     num_hours_late|\n",
      "+-------------------+-------------------+\n",
      "| -998.5087616000001|     -23964.2102784|\n",
      "|-2.0126041669999997|-48.302500007999996|\n",
      "|       -3.022337963|      -72.536111112|\n",
      "|       -15.01148148|      -360.27555552|\n",
      "|0.37216435200000003|  8.931944448000001|\n",
      "|       -29.74398148| -713.8555555199999|\n",
      "|       -14.70673611|      -352.96166664|\n",
      "|       -14.70662037|      -352.95888888|\n",
      "|       -14.70662037|      -352.95888888|\n",
      "|       -14.70649306|      -352.95583344|\n",
      "|       -14.70649306|      -352.95583344|\n",
      "|       -14.70636574|      -352.95277776|\n",
      "|          -14.70625|-352.95000000000005|\n",
      "|       -14.70636574|      -352.95277776|\n",
      "|       -14.70623843|-352.94972232000003|\n",
      "|-14.705891199999998|-352.94138879999997|\n",
      "|       -14.70600694|      -352.94416656|\n",
      "|       -14.70576389|      -352.93833336|\n",
      "|       -14.70576389|      -352.93833336|\n",
      "|       -14.70564815|       -352.9355556|\n",
      "+-------------------+-------------------+\n",
      "only showing top 20 rows\n",
      "\n"
     ]
    }
   ],
   "source": [
    "# use withColumn to create a new column \"num_hours_late\" and convert value by multiplying days by 24\n",
    "\n",
    "(case.withColumn('num_hours_late', case.num_days_late * 24)\n",
    "    .select('num_days_late', 'num_hours_late')\n",
    "    .show()\n",
    ")"
   ]
  },
  {
   "cell_type": "markdown",
   "metadata": {},
   "source": [
    "**7. Join the case data with the source and department data.**"
   ]
  },
  {
   "cell_type": "code",
   "execution_count": 25,
   "metadata": {},
   "outputs": [],
   "source": [
    "# Join departments and sources\n",
    "depts = spark.read.csv('dept.csv', header=True, inferSchema=True)\n",
    "sources = spark.read.csv('source.csv', header=True, inferSchema=True)\n",
    "\n",
    "case = case.join(depts, 'dept_division', 'left').join(sources, 'source_id', 'left')"
   ]
  },
  {
   "cell_type": "code",
   "execution_count": 26,
   "metadata": {},
   "outputs": [
    {
     "name": "stdout",
     "output_type": "stream",
     "text": [
      "root\n",
      " |-- source_id: string (nullable = true)\n",
      " |-- dept_division: string (nullable = true)\n",
      " |-- case_id: integer (nullable = true)\n",
      " |-- case_opened_date: timestamp (nullable = true)\n",
      " |-- case_closed_date: timestamp (nullable = true)\n",
      " |-- case_due_date: timestamp (nullable = true)\n",
      " |-- case_late: boolean (nullable = true)\n",
      " |-- num_days_late: double (nullable = true)\n",
      " |-- case_closed: boolean (nullable = true)\n",
      " |-- service_request_type: string (nullable = true)\n",
      " |-- SLA_days: double (nullable = true)\n",
      " |-- case_status: string (nullable = true)\n",
      " |-- request_address: string (nullable = true)\n",
      " |-- council_district: string (nullable = false)\n",
      " |-- dept_name: string (nullable = true)\n",
      " |-- standardized_dept_name: string (nullable = true)\n",
      " |-- dept_subject_to_SLA: string (nullable = true)\n",
      " |-- source_username: string (nullable = true)\n",
      "\n"
     ]
    }
   ],
   "source": [
    "case.printSchema()"
   ]
  },
  {
   "cell_type": "markdown",
   "metadata": {},
   "source": [
    "**8. Are there any cases that do not have a request source?**"
   ]
  },
  {
   "cell_type": "code",
   "execution_count": 28,
   "metadata": {},
   "outputs": [
    {
     "name": "stdout",
     "output_type": "stream",
     "text": [
      "+------------+\n",
      "|sum(is_null)|\n",
      "+------------+\n",
      "|           0|\n",
      "+------------+\n",
      "\n"
     ]
    }
   ],
   "source": [
    "(\n",
    "    case.select(case.source_id.isNull().cast('int').alias('is_null'))\n",
    "    .agg(sum('is_null'))\n",
    "    .show()\n",
    ")"
   ]
  },
  {
   "cell_type": "code",
   "execution_count": 30,
   "metadata": {},
   "outputs": [
    {
     "name": "stdout",
     "output_type": "stream",
     "text": [
      "(0 rows)\n",
      "\n"
     ]
    }
   ],
   "source": [
    "#Another way:\n",
    "case.filter(col('source_id').isNull()).show(vertical=True)"
   ]
  },
  {
   "cell_type": "markdown",
   "metadata": {},
   "source": [
    "**9. What are the top 10 service request types in terms of number of requests?**"
   ]
  },
  {
   "cell_type": "code",
   "execution_count": 32,
   "metadata": {},
   "outputs": [
    {
     "name": "stdout",
     "output_type": "stream",
     "text": [
      "+--------------------------------+-----+\n",
      "|service_request_type            |count|\n",
      "+--------------------------------+-----+\n",
      "|No Pickup                       |89210|\n",
      "|Overgrown Yard/Trash            |66403|\n",
      "|Bandit Signs                    |32968|\n",
      "|Damaged Cart                    |31163|\n",
      "|Front Or Side Yard Parking      |28920|\n",
      "|Stray Animal                    |27361|\n",
      "|Aggressive Animal(Non-Critical) |25492|\n",
      "|Cart Exchange Request           |22608|\n",
      "|Junk Vehicle On Private Property|21649|\n",
      "|Pot Hole Repair                 |20827|\n",
      "+--------------------------------+-----+\n",
      "only showing top 10 rows\n",
      "\n"
     ]
    }
   ],
   "source": [
    "(case.groupby('service_request_type')\n",
    "    .count()\n",
    "    .sort(col('count').desc())\n",
    "    .show(10, truncate=False))\n",
    "\n"
   ]
  },
  {
   "cell_type": "markdown",
   "metadata": {},
   "source": [
    "**10. What are the top 10 service request types in terms of average days late?**"
   ]
  },
  {
   "cell_type": "code",
   "execution_count": 33,
   "metadata": {},
   "outputs": [
    {
     "name": "stdout",
     "output_type": "stream",
     "text": [
      "+--------------------------------------+------------------+-------+\n",
      "|service_request_type                  |n_days_late       |n_cases|\n",
      "+--------------------------------------+------------------+-------+\n",
      "|Zoning: Recycle Yard                  |210.89201994318182|132    |\n",
      "|Zoning: Junk Yards                    |200.20517608494276|262    |\n",
      "|Structure/Housing Maintenance         |190.20707698509807|51     |\n",
      "|Donation Container Enforcement        |171.09115313942615|122    |\n",
      "|Storage of Used Mattress              |163.96812829714287|7      |\n",
      "|Labeling for Used Mattress            |162.43032902285717|7      |\n",
      "|Record Keeping of Used Mattresses     |153.99724039428568|7      |\n",
      "|Signage Requied for Sale of Used Mattr|151.63868055333333|12     |\n",
      "|Traffic Signal Graffiti               |137.64583330000002|4      |\n",
      "|License Requied Used Mattress Sales   |128.79828704142858|7      |\n",
      "+--------------------------------------+------------------+-------+\n",
      "only showing top 10 rows\n",
      "\n"
     ]
    }
   ],
   "source": [
    "# just where case_late is true\n",
    "(case.where('case_late') \n",
    "    .groupBy('service_request_type')\n",
    "    .agg(mean('num_days_late').alias('n_days_late'), count('*').alias('n_cases'))\n",
    "    .sort(desc('n_days_late'))\n",
    "    .show(10, truncate=False))"
   ]
  },
  {
   "cell_type": "markdown",
   "metadata": {},
   "source": [
    "**11. Does number of days late depend on department?**"
   ]
  },
  {
   "cell_type": "code",
   "execution_count": 34,
   "metadata": {},
   "outputs": [
    {
     "name": "stdout",
     "output_type": "stream",
     "text": [
      "+-------------------------+---------+------------+\n",
      "|dept_name                |days_late|n_cases_late|\n",
      "+-------------------------+---------+------------+\n",
      "|Metro Health             |6.5      |854         |\n",
      "|Solid Waste Management   |7.1      |33729       |\n",
      "|Trans & Cap Improvements |10.7     |5529        |\n",
      "|Parks and Recreation     |22.4     |3810        |\n",
      "|Animal Care Services     |23.4     |23751       |\n",
      "|Code Enforcement Services|48.1     |25467       |\n",
      "|Development Services     |67.2     |840         |\n",
      "|Customer Service         |88.2     |2035        |\n",
      "|null                     |210.9    |132         |\n",
      "+-------------------------+---------+------------+\n",
      "\n"
     ]
    }
   ],
   "source": [
    "\n",
    "(case.filter('case_late')\n",
    "    .groupby('dept_name')\n",
    "    .agg(mean('num_days_late').alias('days_late'), count('num_days_late').alias('n_cases_late'))\n",
    "    .sort('days_late')\n",
    "    .withColumn('days_late', round(col('days_late'), 1))\n",
    "    .show(truncate=False))"
   ]
  },
  {
   "cell_type": "code",
   "execution_count": 36,
   "metadata": {},
   "outputs": [
    {
     "name": "stdout",
     "output_type": "stream",
     "text": [
      "+-------------------------+------+\n",
      "|dept_name                |count |\n",
      "+-------------------------+------+\n",
      "|Animal Care Services     |119362|\n",
      "|null                     |198   |\n",
      "|Solid Waste Management   |286287|\n",
      "|Development Services     |1397  |\n",
      "|Trans & Cap Improvements |97841 |\n",
      "|Customer Service         |2889  |\n",
      "|Metro Health             |5313  |\n",
      "|Parks and Recreation     |19964 |\n",
      "|Code Enforcement Services|321984|\n",
      "|City Council             |34    |\n",
      "+-------------------------+------+\n",
      "\n"
     ]
    }
   ],
   "source": [
    "case.groupby('dept_name').count().show(truncate=False)"
   ]
  },
  {
   "cell_type": "markdown",
   "metadata": {},
   "source": [
    "**12. How do number of days late depend on department and request type?**"
   ]
  },
  {
   "cell_type": "markdown",
   "metadata": {},
   "source": [
    "You might have noticed that the latest date in the dataset is fairly far off from the present day. To account for this, replace any occurances of the current time with the maximum date from the dataset."
   ]
  },
  {
   "cell_type": "code",
   "execution_count": 37,
   "metadata": {},
   "outputs": [
    {
     "name": "stdout",
     "output_type": "stream",
     "text": [
      "+------------------------+--------------------------------------------+---------+-------+\n",
      "|standardized_dept_name  |service_request_type                        |days_late|n_cases|\n",
      "+------------------------+--------------------------------------------+---------+-------+\n",
      "|City Council            |Request for Research/Information            |null     |5      |\n",
      "|Trans & Cap Improvements|Engineering Design                          |-1413.8  |1      |\n",
      "|Trans & Cap Improvements|Signal Timing Modification By Engineer      |-1352.0  |22     |\n",
      "|Animal Care Services    |Stray Animal                                |-998.8   |27346  |\n",
      "|Parks & Recreation      |Major Park Improvement Install              |-278.3   |271    |\n",
      "|Trans & Cap Improvements|Sidewalk Cost Sharing Program               |-177.8   |131    |\n",
      "|DSD/Code Enforcement    |Multi Tenant Exterior                       |-135.7   |84     |\n",
      "|DSD/Code Enforcement    |CPS Energy Towers                           |-129.8   |511    |\n",
      "|DSD/Code Enforcement    |CPS Energy Wood Poles                       |-129.3   |3501   |\n",
      "|DSD/Code Enforcement    |CPS Energy Metal Poles                      |-129.2   |893    |\n",
      "|DSD/Code Enforcement    |Multi Tenant Interior                       |-125.1   |172    |\n",
      "|DSD/Code Enforcement    |Temporary Obstruction                       |-121.3   |128    |\n",
      "|Trans & Cap Improvements|Manhole Sunken/Raised                       |-120.5   |553    |\n",
      "|DSD/Code Enforcement    |Swim. Pool Inspect: Residential             |-117.5   |821    |\n",
      "|DSD/Code Enforcement    |Zoning: Mobile Homes                        |-116.5   |208    |\n",
      "|DSD/Code Enforcement    |Water No Services                           |-114.8   |686    |\n",
      "|DSD/Code Enforcement    |Zoning Business in Resident Area            |-114.4   |2643   |\n",
      "|DSD/Code Enforcement    |Wasting Water (Leaks)                       |-114.2   |626    |\n",
      "|DSD/Code Enforcement    |Low Hanging Limbs on Streets/Sidewalk       |-113.2   |3908   |\n",
      "|Trans & Cap Improvements|Base/Pavement Repair                        |-112.6   |5215   |\n",
      "|DSD/Code Enforcement    |Zoning: Multi-Family In Single              |-112.1   |718    |\n",
      "|DSD/Code Enforcement    |Zoning: Outside Storage                     |-109.8   |353    |\n",
      "|DSD/Code Enforcement    |Minimum Housing-Owner Occupied              |-109.2   |8157   |\n",
      "|DSD/Code Enforcement    |Minimum Housing-Tenant Occupied             |-108.8   |7363   |\n",
      "|DSD/Code Enforcement    |Zoning: Illumination                        |-108.1   |137    |\n",
      "|DSD/Code Enforcement    |Certificates of Occupancy                   |-103.4   |1354   |\n",
      "|DSD/Code Enforcement    |Whole Scrap Tires Not Marked                |-102.4   |46     |\n",
      "|DSD/Code Enforcement    |Used/Scrap Tire Facility Registration       |-102.1   |14     |\n",
      "|DSD/Code Enforcement    |Used/Scrap Tire Facility Periodic Inspection|-101.1   |160    |\n",
      "|DSD/Code Enforcement    |Zoning: Setbacks                            |-92.3    |713    |\n",
      "|DSD/Code Enforcement    |Structure/Housing Maintenance               |-89.9    |526    |\n",
      "|DSD/Code Enforcement    |Improper Disposal of Scrap Tires            |-88.7    |3      |\n",
      "|Trans & Cap Improvements|Pedestrian Signal - New Request             |-85.9    |125    |\n",
      "|DSD/Code Enforcement    |Improper Rec Keeping-Used/Scrap Tire Fac    |-82.2    |43     |\n",
      "|Trans & Cap Improvements|Signal Timing Modification                  |-80.5    |4513   |\n",
      "|DSD/Code Enforcement    |Improper Storage of Tires/At Facility       |-80.3    |54     |\n",
      "|DSD/Code Enforcement    |Used/Scrap Tire Facility License Pending    |-80.1    |67     |\n",
      "|DSD/Code Enforcement    |Zoning: District Requirement                |-72.6    |1596   |\n",
      "|DSD/Code Enforcement    |Graffiti: Vacant Lots                       |-71.3    |3      |\n",
      "|Trans & Cap Improvements|Flashing Beacon New Request                 |-69.9    |64     |\n",
      "+------------------------+--------------------------------------------+---------+-------+\n",
      "only showing top 40 rows\n",
      "\n"
     ]
    }
   ],
   "source": [
    "(case.filter(\"case_closed\")\n",
    "#     .filter(\"case_late\")\n",
    "    .groupby(\"standardized_dept_name\", \"service_request_type\")\n",
    "    .agg(avg(\"num_days_late\").alias(\"days_late\"), count(\"*\").alias(\"n_cases\"))\n",
    "    .withColumn(\"days_late\", round(col(\"days_late\"), 1))\n",
    "    .sort(asc(\"days_late\"))\n",
    "    .show(40, truncate=False))"
   ]
  },
  {
   "cell_type": "code",
   "execution_count": 38,
   "metadata": {},
   "outputs": [
    {
     "name": "stdout",
     "output_type": "stream",
     "text": [
      "+-------------------+-------------------+-------------------+---------------+\n",
      "|   case_opened_date|      case_due_date|   case_closed_date|days_to_resolve|\n",
      "+-------------------+-------------------+-------------------+---------------+\n",
      "|2018-01-01 00:42:00|2020-09-26 00:42:00|2018-01-01 12:29:00|            999|\n",
      "|2018-01-01 08:39:00|2020-09-26 08:39:00|2018-01-01 12:30:00|            999|\n",
      "|2018-01-01 09:51:00|2020-09-26 09:51:00|2018-01-01 11:53:00|            999|\n",
      "|2018-01-01 10:39:00|2020-09-26 10:39:00|2018-01-01 12:29:00|            999|\n",
      "|2018-01-01 10:44:00|2020-09-26 10:44:00|2018-01-01 12:43:00|            999|\n",
      "|2018-01-01 10:52:00|2020-09-26 10:52:00|2018-01-01 11:53:00|            999|\n",
      "|2018-01-01 11:11:00|2020-09-26 11:11:00|2018-01-01 11:53:00|            999|\n",
      "|2018-01-01 11:46:00|2020-09-26 11:46:00|2018-01-01 12:26:00|            999|\n",
      "|2018-01-01 11:58:00|2020-09-26 11:58:00|2018-01-01 12:26:00|            999|\n",
      "|2018-01-01 12:28:00|2020-09-26 12:28:00|2018-01-01 12:44:00|            999|\n",
      "|2018-01-01 12:33:00|2020-09-26 12:33:00|2018-01-01 13:50:00|            999|\n",
      "|2018-01-01 12:33:00|2020-09-26 12:33:00|2018-01-01 12:43:00|            999|\n",
      "|2018-01-01 12:42:00|2020-09-26 12:42:00|2018-01-01 12:48:00|            999|\n",
      "|2018-01-01 13:04:00|2020-09-26 13:04:00|2018-01-01 13:07:00|            999|\n",
      "|2018-01-01 13:05:00|2020-09-26 13:05:00|2018-01-01 19:59:00|            999|\n",
      "|2018-01-01 13:12:00|2020-09-26 13:12:00|2018-01-01 13:15:00|            999|\n",
      "|2018-01-01 13:16:00|2020-09-26 13:16:00|2018-01-03 05:46:00|            999|\n",
      "|2018-01-01 13:47:00|2020-09-26 13:47:00|2018-01-01 13:53:00|            999|\n",
      "|2018-01-01 14:19:00|2020-09-26 14:19:00|2018-01-01 15:06:00|            999|\n",
      "|2018-01-01 15:20:00|2020-09-26 15:20:00|2018-01-02 18:26:00|            999|\n",
      "+-------------------+-------------------+-------------------+---------------+\n",
      "only showing top 20 rows\n",
      "\n"
     ]
    }
   ],
   "source": [
    "(case.filter(col(\"service_request_type\") == \"Stray Animal\")\n",
    "    .select(\"case_opened_date\", \"case_due_date\", \"case_closed_date\")\n",
    "    .withColumn(\"days_to_resolve\", datediff(\"case_due_date\", \"case_opened_date\"))\n",
    "    .show())"
   ]
  },
  {
   "cell_type": "markdown",
   "metadata": {},
   "source": [
    "## NOTES FROM WALKTHROUGH"
   ]
  },
  {
   "cell_type": "markdown",
   "metadata": {},
   "source": [
    "## Handling Dates"
   ]
  },
  {
   "cell_type": "markdown",
   "metadata": {},
   "source": [
    "Quick Recap: getting data from spark dataframes:\n",
    "\n",
    "- `.show(n)`: prints the first `n` rows. Doesn't produce a value that can be used later\n",
    "- `.first`: gives us the first row object\n",
    "- `.head(n)`: gives us a list of the first `n` row objects\n",
    "- `.collect()`: turns *all* the rows into a list of row objects **be careful here**"
   ]
  },
  {
   "cell_type": "code",
   "execution_count": 41,
   "metadata": {},
   "outputs": [
    {
     "data": {
      "text/plain": [
       "[Row(max(case_opened_date)=datetime.datetime(2018, 8, 8, 10, 38), max(case_closed_date)=datetime.datetime(2018, 8, 8, 10, 38))]"
      ]
     },
     "execution_count": 41,
     "metadata": {},
     "output_type": "execute_result"
    }
   ],
   "source": [
    "case.select(max('case_opened_date'), max(\"case_closed_date\")).collect()"
   ]
  },
  {
   "cell_type": "code",
   "execution_count": 42,
   "metadata": {},
   "outputs": [
    {
     "data": {
      "text/plain": [
       "datetime.datetime(2018, 8, 8, 10, 38)"
      ]
     },
     "execution_count": 42,
     "metadata": {},
     "output_type": "execute_result"
    }
   ],
   "source": [
    "max_date = case.select(max('case_opened_date'), max('case_closed_date')).first()[0]\n",
    "max_date"
   ]
  },
  {
   "cell_type": "code",
   "execution_count": 43,
   "metadata": {},
   "outputs": [
    {
     "data": {
      "text/plain": [
       "'2018-08-08 10:38:00'"
      ]
     },
     "execution_count": 43,
     "metadata": {},
     "output_type": "execute_result"
    }
   ],
   "source": [
    "max_date = max_date.strftime('%Y-%m-%d %H:%M:%S')\n",
    "max_date"
   ]
  },
  {
   "cell_type": "code",
   "execution_count": 46,
   "metadata": {},
   "outputs": [],
   "source": [
    "case = (case.withColumn('case_age', datediff(lit(max_date), 'case_opened_date'))\n",
    "    .withColumn('days_to_closed', datediff('case_closed_date', 'case_opened_date'))\n",
    "    .withColumn('case_lifetime', when(col('case_closed'), col('days_to_closed')).otherwise(col('case_age')))\n",
    "    .drop('case_age', 'days_to_closed'))"
   ]
  },
  {
   "cell_type": "code",
   "execution_count": 47,
   "metadata": {},
   "outputs": [
    {
     "data": {
      "text/plain": [
       "DataFrame[source_id: string, dept_division: string, case_id: int, case_opened_date: timestamp, case_closed_date: timestamp, case_due_date: timestamp, case_late: boolean, num_days_late: double, case_closed: boolean, service_request_type: string, SLA_days: double, case_status: string, request_address: string, council_district: string, dept_name: string, standardized_dept_name: string, dept_subject_to_SLA: string, source_username: string, case_lifetime: int]"
      ]
     },
     "execution_count": 47,
     "metadata": {},
     "output_type": "execute_result"
    }
   ],
   "source": [
    "case"
   ]
  },
  {
   "cell_type": "code",
   "execution_count": null,
   "metadata": {},
   "outputs": [],
   "source": []
  },
  {
   "cell_type": "markdown",
   "metadata": {},
   "source": [
    "## Sidebar: Python Code Formatting\n",
    "\n",
    "Indentation conveys nesting\n",
    "\n",
    "autoformatting tools remove the discussion"
   ]
  },
  {
   "cell_type": "code",
   "execution_count": 48,
   "metadata": {},
   "outputs": [],
   "source": [
    "case = (case.withColumn('case_age', datediff(lit(max_date), 'case_opened_date')).withColumn('days_to_closed', datediff('case_closed_date', 'case_opened_date')).withColumn('case_lifetime', when(col('case_closed'), col('days_to_closed')).otherwise(col('case_age'))).drop('case_age', 'days_to_closed'))"
   ]
  },
  {
   "cell_type": "code",
   "execution_count": null,
   "metadata": {},
   "outputs": [],
   "source": [
    "df = (\n",
    "    df.withColumn(\"case_age\", datediff(lit(max_date), \"case_opened_date\"))\n",
    "    .withColumn(\"days_to_closed\", datediff(\"case_closed_date\", \"case_opened_date\"))\n",
    "    .withColumn(\n",
    "        \"case_lifetime\",\n",
    "        when(col(\"case_closed\"), col(\"days_to_closed\")).otherwise(col(\"case_age\")),\n",
    "    )\n",
    "    .drop(\"case_age\", \"days_to_closed\")\n",
    ")"
   ]
  },
  {
   "cell_type": "code",
   "execution_count": null,
   "metadata": {},
   "outputs": [],
   "source": [
    "(df.withColumn('case_age', datediff(lit(max_date), 'case_opened_date'))\n",
    " .withColumn('days_to_closed', datediff('case_closed_date', 'case_opened_date'))\n",
    " .withColumn('case_lifetime', when(col('case_closed'), col('days_to_closed')).otherwise(col('case_age')))\n",
    " .drop('case_age', 'days_to_closed'))"
   ]
  },
  {
   "cell_type": "markdown",
   "metadata": {},
   "source": [
    "1. Install black -- the python code formatter\n",
    "\n",
    "    ```\n",
    "    python -m pip install black\n",
    "    ```\n",
    "    \n",
    "1. Create an alias\n",
    "\n",
    "    ```\n",
    "    alias fmt-clipboard='pbpaste | black -q - | pbcopy'\n",
    "    ```\n",
    "\n",
    "    Put this line in your `.zshrc` or `.bash_profile`\n",
    "    \n",
    "    ```\n",
    "    echo $0\n",
    "    ```\n",
    "    \n",
    "    Will tell you what shell you are using\n",
    "    \n",
    "1. Open a new terminal\n",
    "\n",
    "1. Copy the code you want to format\n",
    "\n",
    "1. Run the `fmt-clipboard` command\n",
    "\n",
    "1. Paste the formatted code\n",
    "\n",
    "\n",
    "To format a `.py` file\n",
    "\n",
    "```\n",
    "black script.py\n",
    "```\n",
    "\n",
    "`black-nb`"
   ]
  }
 ],
 "metadata": {
  "kernelspec": {
   "display_name": "Python 3",
   "language": "python",
   "name": "python3"
  },
  "language_info": {
   "codemirror_mode": {
    "name": "ipython",
    "version": 3
   },
   "file_extension": ".py",
   "mimetype": "text/x-python",
   "name": "python",
   "nbconvert_exporter": "python",
   "pygments_lexer": "ipython3",
   "version": "3.8.5"
  }
 },
 "nbformat": 4,
 "nbformat_minor": 4
}
