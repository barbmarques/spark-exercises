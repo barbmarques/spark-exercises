{
 "cells": [
  {
   "cell_type": "markdown",
   "metadata": {},
   "source": [
    "# Spark 101 Exercises\n",
    "\n",
    "\n",
    "**1. Create a spark data frame that contains your favorite programming languages.**\n",
    "  - The name of the column should be ```language```\n",
    "  - View the schema of the dataframe\n",
    "  - Output the shape of the dataframe\n",
    "  - Show the first 5 records in the dataframe\n",
    "  "
   ]
  },
  {
   "cell_type": "code",
   "execution_count": 1,
   "metadata": {},
   "outputs": [],
   "source": [
    "import pandas as pd\n",
    "import numpy as np\n",
    "\n",
    "import pyspark\n",
    "from pyspark.sql.functions import *\n",
    "spark = pyspark.sql.SparkSession.builder.getOrCreate()"
   ]
  },
  {
   "cell_type": "code",
   "execution_count": 2,
   "metadata": {},
   "outputs": [],
   "source": [
    "#create pandas data frame\n",
    "df = pd.DataFrame(\n",
    "    dict(language=['Python','SQL','JavaScript', 'Scala', 'Julia', 'Kotlin','TypeScript', 'Java', 'C++', 'R', 'VisualBasic', 'Ruby', 'Java']))\n",
    "\n",
    "#convert to spark data frame\n",
    "df = spark.createDataFrame(df)\n"
   ]
  },
  {
   "cell_type": "code",
   "execution_count": 3,
   "metadata": {},
   "outputs": [
    {
     "name": "stdout",
     "output_type": "stream",
     "text": [
      "root\n",
      " |-- language: string (nullable = true)\n",
      "\n"
     ]
    }
   ],
   "source": [
    "# view the schema of the dataframe\n",
    "df.printSchema()"
   ]
  },
  {
   "cell_type": "code",
   "execution_count": 4,
   "metadata": {},
   "outputs": [
    {
     "name": "stdout",
     "output_type": "stream",
     "text": [
      "13 rows 1 columns\n"
     ]
    }
   ],
   "source": [
    "#output the shape of the dataframe\n",
    "print(df.count(), \"rows\", len(df.columns), \"columns\")"
   ]
  },
  {
   "cell_type": "code",
   "execution_count": 5,
   "metadata": {},
   "outputs": [
    {
     "name": "stdout",
     "output_type": "stream",
     "text": [
      "+----------+\n",
      "|  language|\n",
      "+----------+\n",
      "|    Python|\n",
      "|       SQL|\n",
      "|JavaScript|\n",
      "|     Scala|\n",
      "|     Julia|\n",
      "+----------+\n",
      "only showing top 5 rows\n",
      "\n"
     ]
    }
   ],
   "source": [
    "#show the first five records\n",
    "df.show(5)"
   ]
  },
  {
   "cell_type": "markdown",
   "metadata": {},
   "source": [
    "**2. Load the ```mpg``` dataset as a spark dataframe.**"
   ]
  },
  {
   "cell_type": "code",
   "execution_count": 6,
   "metadata": {},
   "outputs": [
    {
     "name": "stdout",
     "output_type": "stream",
     "text": [
      "+------------+-----+-----+----+---+----------+---+---+---+---+-------+\n",
      "|manufacturer|model|displ|year|cyl|     trans|drv|cty|hwy| fl|  class|\n",
      "+------------+-----+-----+----+---+----------+---+---+---+---+-------+\n",
      "|        audi|   a4|  1.8|1999|  4|  auto(l5)|  f| 18| 29|  p|compact|\n",
      "|        audi|   a4|  1.8|1999|  4|manual(m5)|  f| 21| 29|  p|compact|\n",
      "|        audi|   a4|  2.0|2008|  4|manual(m6)|  f| 20| 31|  p|compact|\n",
      "+------------+-----+-----+----+---+----------+---+---+---+---+-------+\n",
      "only showing top 3 rows\n",
      "\n"
     ]
    }
   ],
   "source": [
    "from pydataset import data\n",
    "\n",
    "#create spark dataframe\n",
    "mpg = spark.createDataFrame(data(\"mpg\"))\n",
    "mpg.show(3)"
   ]
  },
  {
   "cell_type": "markdown",
   "metadata": {},
   "source": [
    "**a. Create 1 column of output that contains a message like the one below for each vehicle:**<br>\n",
    "```The 1999 audi a4 has a 4 cylinder engine.```"
   ]
  },
  {
   "cell_type": "code",
   "execution_count": 7,
   "metadata": {},
   "outputs": [
    {
     "name": "stdout",
     "output_type": "stream",
     "text": [
      "+------------+-----+-----+----+---+----------+---+---+---+---+-------+-----------------------------------------+\n",
      "|manufacturer|model|displ|year|cyl|trans     |drv|cty|hwy|fl |class  |engine_type                              |\n",
      "+------------+-----+-----+----+---+----------+---+---+---+---+-------+-----------------------------------------+\n",
      "|audi        |a4   |1.8  |1999|4  |auto(l5)  |f  |18 |29 |p  |compact|The 1999 audi a4 has a 4 cylinder engine.|\n",
      "|audi        |a4   |1.8  |1999|4  |manual(m5)|f  |21 |29 |p  |compact|The 1999 audi a4 has a 4 cylinder engine.|\n",
      "|audi        |a4   |2.0  |2008|4  |manual(m6)|f  |20 |31 |p  |compact|The 2008 audi a4 has a 4 cylinder engine.|\n",
      "|audi        |a4   |2.0  |2008|4  |auto(av)  |f  |21 |30 |p  |compact|The 2008 audi a4 has a 4 cylinder engine.|\n",
      "|audi        |a4   |2.8  |1999|6  |auto(l5)  |f  |16 |26 |p  |compact|The 1999 audi a4 has a 6 cylinder engine.|\n",
      "+------------+-----+-----+----+---+----------+---+---+---+---+-------+-----------------------------------------+\n",
      "only showing top 5 rows\n",
      "\n"
     ]
    }
   ],
   "source": [
    "#add a new column to existing dataframe, with formatting to include literals and column name\n",
    "\n",
    "mpg = mpg.select( '*', concat(\n",
    "    lit('The '), mpg.year, lit(' '), mpg.manufacturer, lit(' '), mpg.model, lit(' has a '), mpg.cyl, lit(' cylinder engine.')\n",
    "    ).alias('engine_type')\n",
    ")\n",
    "\n",
    "# set truncate to false to keep column content from being cut off\n",
    "mpg.show(5, truncate=False)"
   ]
  },
  {
   "cell_type": "markdown",
   "metadata": {},
   "source": [
    "**b. Transform the trans column so that it only contains either manual or auto.**"
   ]
  },
  {
   "cell_type": "code",
   "execution_count": 8,
   "metadata": {},
   "outputs": [
    {
     "name": "stdout",
     "output_type": "stream",
     "text": [
      "+------+\n",
      "| trans|\n",
      "+------+\n",
      "|  auto|\n",
      "|manual|\n",
      "|manual|\n",
      "|  auto|\n",
      "|  auto|\n",
      "|manual|\n",
      "|  auto|\n",
      "|manual|\n",
      "|  auto|\n",
      "|manual|\n",
      "|  auto|\n",
      "|  auto|\n",
      "|manual|\n",
      "|  auto|\n",
      "|manual|\n",
      "|  auto|\n",
      "|  auto|\n",
      "|  auto|\n",
      "|  auto|\n",
      "|  auto|\n",
      "+------+\n",
      "only showing top 20 rows\n",
      "\n"
     ]
    }
   ],
   "source": [
    "# use when(expr to identify values beginning with 'auto' and rename them.\n",
    "# then rename all remaining values to manual\n",
    "mpg.select(when(expr(\"trans LIKE 'auto%'\"), \"auto\").otherwise(\"manual\").alias(\"trans\")).show()"
   ]
  },
  {
   "cell_type": "markdown",
   "metadata": {},
   "source": [
    "**3. Load the tips dataset as a spark dataframe.**\n"
   ]
  },
  {
   "cell_type": "code",
   "execution_count": 9,
   "metadata": {},
   "outputs": [
    {
     "name": "stdout",
     "output_type": "stream",
     "text": [
      "+----------+----+------+------+---+------+----+\n",
      "|total_bill| tip|   sex|smoker|day|  time|size|\n",
      "+----------+----+------+------+---+------+----+\n",
      "|     16.99|1.01|Female|    No|Sun|Dinner|   2|\n",
      "|     10.34|1.66|  Male|    No|Sun|Dinner|   3|\n",
      "|     21.01| 3.5|  Male|    No|Sun|Dinner|   3|\n",
      "+----------+----+------+------+---+------+----+\n",
      "only showing top 3 rows\n",
      "\n"
     ]
    }
   ],
   "source": [
    "from pydataset import data\n",
    "\n",
    "#create pandas dataframe\n",
    "tips = pd.DataFrame(data('tips'))\n",
    "\n",
    "#convert to spark data frame\n",
    "tips = spark.createDataFrame(data('tips'))\n",
    "tips.show(3)"
   ]
  },
  {
   "cell_type": "markdown",
   "metadata": {},
   "source": [
    "**What percentage of observations are smokers?**"
   ]
  },
  {
   "cell_type": "code",
   "execution_count": 10,
   "metadata": {},
   "outputs": [],
   "source": [
    "#In order to start using spark SQL, we'll first \"register\" the table with spark\n",
    "tips.createOrReplaceTempView(\"tips\")"
   ]
  },
  {
   "cell_type": "code",
   "execution_count": 11,
   "metadata": {},
   "outputs": [
    {
     "name": "stdout",
     "output_type": "stream",
     "text": [
      "+-------------------+\n",
      "|        pct_smokers|\n",
      "+-------------------+\n",
      "|0.38114754098360654|\n",
      "+-------------------+\n",
      "only showing top 1 row\n",
      "\n"
     ]
    }
   ],
   "source": [
    "# Pull with SQL query -- AS creates new column\n",
    "# Showing only the top line\n",
    "spark.sql(\n",
    "    '''\n",
    "    SELECT ((SELECT COUNT(smoker)\n",
    "    FROM tips\n",
    "    WHERE smoker = 'Yes') / \n",
    "        (SELECT COUNT(smoker)\n",
    "        FROM tips)) AS pct_smokers\n",
    "        FROM tips\n",
    "    '''\n",
    "    ).show(1)"
   ]
  },
  {
   "cell_type": "markdown",
   "metadata": {},
   "source": [
    "**Create a column that contains the tip percentage**\n"
   ]
  },
  {
   "cell_type": "code",
   "execution_count": 12,
   "metadata": {},
   "outputs": [
    {
     "name": "stdout",
     "output_type": "stream",
     "text": [
      "+----------+----+------+------+---+------+----+-------+\n",
      "|total_bill| tip|   sex|smoker|day|  time|size|tip_pct|\n",
      "+----------+----+------+------+---+------+----+-------+\n",
      "|     16.99|1.01|Female|    No|Sun|Dinner|   2|   0.06|\n",
      "|     10.34|1.66|  Male|    No|Sun|Dinner|   3|   0.16|\n",
      "|     21.01| 3.5|  Male|    No|Sun|Dinner|   3|   0.17|\n",
      "|     23.68|3.31|  Male|    No|Sun|Dinner|   2|   0.14|\n",
      "|     24.59|3.61|Female|    No|Sun|Dinner|   4|   0.15|\n",
      "+----------+----+------+------+---+------+----+-------+\n",
      "only showing top 5 rows\n",
      "\n"
     ]
    }
   ],
   "source": [
    "#using SQL commands -- AS tip_pct creates the new column\n",
    "tips = spark.sql(\n",
    "    '''\n",
    "    SELECT *, ROUND((tip / total_bill),2) AS tip_pct\n",
    "    FROM tips\n",
    "    '''\n",
    ")\n",
    "\n",
    "tips.show(5)"
   ]
  },
  {
   "cell_type": "markdown",
   "metadata": {},
   "source": [
    "**Calculate the average tip percentage for each combination of sex and smoker.**"
   ]
  },
  {
   "cell_type": "code",
   "execution_count": 13,
   "metadata": {},
   "outputs": [
    {
     "name": "stdout",
     "output_type": "stream",
     "text": [
      "+------+-------------------+-------------------+\n",
      "|   sex|                 No|                Yes|\n",
      "+------+-------------------+-------------------+\n",
      "|Female|0.15685185185185185| 0.1824242424242424|\n",
      "|  Male|0.16103092783505155|0.15283333333333332|\n",
      "+------+-------------------+-------------------+\n",
      "\n"
     ]
    }
   ],
   "source": [
    "# this is similar to a crosstab.  can use a pivot\n",
    "#Calculate the average tip percentage for each combination of sex and smoker.\n",
    "\n",
    "#Use groupby and pivot table to efficiently calculate these values\n",
    "tips.groupby(\"sex\").pivot('smoker').mean('tip_pct').show()"
   ]
  },
  {
   "cell_type": "markdown",
   "metadata": {},
   "source": [
    "**4. Use the seattle weather dataset referenced in the lesson to answer the questions below.**"
   ]
  },
  {
   "cell_type": "code",
   "execution_count": 14,
   "metadata": {},
   "outputs": [
    {
     "name": "stdout",
     "output_type": "stream",
     "text": [
      "+----------+-------------+--------+--------+----+-------+\n",
      "|      date|precipitation|temp_max|temp_min|wind|weather|\n",
      "+----------+-------------+--------+--------+----+-------+\n",
      "|2012-01-01|          0.0|    12.8|     5.0| 4.7|drizzle|\n",
      "|2012-01-02|         10.9|    10.6|     2.8| 4.5|   rain|\n",
      "|2012-01-03|          0.8|    11.7|     7.2| 2.3|   rain|\n",
      "+----------+-------------+--------+--------+----+-------+\n",
      "only showing top 3 rows\n",
      "\n"
     ]
    }
   ],
   "source": [
    "from vega_datasets import data as vdata\n",
    "\n",
    "# format all dates to string datatypes\n",
    "weather= vdata.seattle_weather().assign(date=lambda df: df.date.astype(str))\n",
    "\n",
    "#create spark dataframe\n",
    "weather = spark.createDataFrame(weather)\n",
    "weather.show(3)"
   ]
  },
  {
   "cell_type": "markdown",
   "metadata": {},
   "source": [
    "**- Convert the temperatures to farenheight.**"
   ]
  },
  {
   "cell_type": "code",
   "execution_count": 15,
   "metadata": {},
   "outputs": [
    {
     "name": "stdout",
     "output_type": "stream",
     "text": [
      "+----------+-------------+--------+--------+----+-------+----------+----------+\n",
      "|      date|precipitation|temp_max|temp_min|wind|weather|temp_max_F|temp_min_F|\n",
      "+----------+-------------+--------+--------+----+-------+----------+----------+\n",
      "|2012-01-01|          0.0|    12.8|     5.0| 4.7|drizzle|      55.0|      41.0|\n",
      "|2012-01-02|         10.9|    10.6|     2.8| 4.5|   rain|      51.1|      37.0|\n",
      "|2012-01-03|          0.8|    11.7|     7.2| 2.3|   rain|      53.1|      45.0|\n",
      "|2012-01-04|         20.3|    12.2|     5.6| 4.7|   rain|      54.0|      42.1|\n",
      "|2012-01-05|          1.3|     8.9|     2.8| 6.1|   rain|      48.0|      37.0|\n",
      "|2012-01-06|          2.5|     4.4|     2.2| 2.2|   rain|      39.9|      36.0|\n",
      "|2012-01-07|          0.0|     7.2|     2.8| 2.3|   rain|      45.0|      37.0|\n",
      "|2012-01-08|          0.0|    10.0|     2.8| 2.0|    sun|      50.0|      37.0|\n",
      "|2012-01-09|          4.3|     9.4|     5.0| 3.4|   rain|      48.9|      41.0|\n",
      "|2012-01-10|          1.0|     6.1|     0.6| 3.4|   rain|      43.0|      33.1|\n",
      "|2012-01-11|          0.0|     6.1|    -1.1| 5.1|    sun|      43.0|      30.0|\n",
      "|2012-01-12|          0.0|     6.1|    -1.7| 1.9|    sun|      43.0|      28.9|\n",
      "|2012-01-13|          0.0|     5.0|    -2.8| 1.3|    sun|      41.0|      27.0|\n",
      "|2012-01-14|          4.1|     4.4|     0.6| 5.3|   snow|      39.9|      33.1|\n",
      "|2012-01-15|          5.3|     1.1|    -3.3| 3.2|   snow|      34.0|      26.1|\n",
      "|2012-01-16|          2.5|     1.7|    -2.8| 5.0|   snow|      35.1|      27.0|\n",
      "|2012-01-17|          8.1|     3.3|     0.0| 5.6|   snow|      37.9|      32.0|\n",
      "|2012-01-18|         19.8|     0.0|    -2.8| 5.0|   snow|      32.0|      27.0|\n",
      "|2012-01-19|         15.2|    -1.1|    -2.8| 1.6|   snow|      30.0|      27.0|\n",
      "|2012-01-20|         13.5|     7.2|    -1.1| 2.3|   snow|      45.0|      30.0|\n",
      "+----------+-------------+--------+--------+----+-------+----------+----------+\n",
      "only showing top 20 rows\n",
      "\n"
     ]
    }
   ],
   "source": [
    "# use formula to convert original celsius temps to farenheit and create new columns to hold them\n",
    "weather = weather.select(\"*\",\n",
    "    round((weather.temp_max * 1.8 + 32),1).alias('temp_max_F'),\n",
    "    round((weather.temp_min * 1.8 + 32),1).alias('temp_min_F')\n",
    ")\n",
    "\n",
    "weather.show()"
   ]
  },
  {
   "cell_type": "markdown",
   "metadata": {},
   "source": [
    "**- Which month has the most rain, on average?**"
   ]
  },
  {
   "cell_type": "code",
   "execution_count": 16,
   "metadata": {},
   "outputs": [
    {
     "name": "stdout",
     "output_type": "stream",
     "text": [
      "+----------+-------------+--------+--------+----+-------+----------+----------+-----+\n",
      "|      date|precipitation|temp_max|temp_min|wind|weather|temp_max_F|temp_min_F|month|\n",
      "+----------+-------------+--------+--------+----+-------+----------+----------+-----+\n",
      "|2012-01-01|          0.0|    12.8|     5.0| 4.7|drizzle|      55.0|      41.0|    1|\n",
      "|2012-01-02|         10.9|    10.6|     2.8| 4.5|   rain|      51.1|      37.0|    1|\n",
      "|2012-01-03|          0.8|    11.7|     7.2| 2.3|   rain|      53.1|      45.0|    1|\n",
      "|2012-01-04|         20.3|    12.2|     5.6| 4.7|   rain|      54.0|      42.1|    1|\n",
      "|2012-01-05|          1.3|     8.9|     2.8| 6.1|   rain|      48.0|      37.0|    1|\n",
      "|2012-01-06|          2.5|     4.4|     2.2| 2.2|   rain|      39.9|      36.0|    1|\n",
      "|2012-01-07|          0.0|     7.2|     2.8| 2.3|   rain|      45.0|      37.0|    1|\n",
      "|2012-01-08|          0.0|    10.0|     2.8| 2.0|    sun|      50.0|      37.0|    1|\n",
      "|2012-01-09|          4.3|     9.4|     5.0| 3.4|   rain|      48.9|      41.0|    1|\n",
      "|2012-01-10|          1.0|     6.1|     0.6| 3.4|   rain|      43.0|      33.1|    1|\n",
      "|2012-01-11|          0.0|     6.1|    -1.1| 5.1|    sun|      43.0|      30.0|    1|\n",
      "|2012-01-12|          0.0|     6.1|    -1.7| 1.9|    sun|      43.0|      28.9|    1|\n",
      "|2012-01-13|          0.0|     5.0|    -2.8| 1.3|    sun|      41.0|      27.0|    1|\n",
      "|2012-01-14|          4.1|     4.4|     0.6| 5.3|   snow|      39.9|      33.1|    1|\n",
      "|2012-01-15|          5.3|     1.1|    -3.3| 3.2|   snow|      34.0|      26.1|    1|\n",
      "|2012-01-16|          2.5|     1.7|    -2.8| 5.0|   snow|      35.1|      27.0|    1|\n",
      "|2012-01-17|          8.1|     3.3|     0.0| 5.6|   snow|      37.9|      32.0|    1|\n",
      "|2012-01-18|         19.8|     0.0|    -2.8| 5.0|   snow|      32.0|      27.0|    1|\n",
      "|2012-01-19|         15.2|    -1.1|    -2.8| 1.6|   snow|      30.0|      27.0|    1|\n",
      "|2012-01-20|         13.5|     7.2|    -1.1| 2.3|   snow|      45.0|      30.0|    1|\n",
      "+----------+-------------+--------+--------+----+-------+----------+----------+-----+\n",
      "only showing top 20 rows\n",
      "\n"
     ]
    }
   ],
   "source": [
    "\n",
    "# import necessary spark functions\n",
    "from pyspark.sql.functions import month, year, quarter\n",
    "\n",
    "#create new column for month\n",
    "\n",
    "weather = weather.withColumn('month', month('date'))\n",
    "weather.show()"
   ]
  },
  {
   "cell_type": "code",
   "execution_count": 17,
   "metadata": {},
   "outputs": [
    {
     "name": "stdout",
     "output_type": "stream",
     "text": [
      "+----------+-------------+--------+--------+----+-------+----------+----------+-----+----+\n",
      "|      date|precipitation|temp_max|temp_min|wind|weather|temp_max_F|temp_min_F|month|year|\n",
      "+----------+-------------+--------+--------+----+-------+----------+----------+-----+----+\n",
      "|2012-01-01|          0.0|    12.8|     5.0| 4.7|drizzle|      55.0|      41.0|    1|2012|\n",
      "|2012-01-02|         10.9|    10.6|     2.8| 4.5|   rain|      51.1|      37.0|    1|2012|\n",
      "|2012-01-03|          0.8|    11.7|     7.2| 2.3|   rain|      53.1|      45.0|    1|2012|\n",
      "|2012-01-04|         20.3|    12.2|     5.6| 4.7|   rain|      54.0|      42.1|    1|2012|\n",
      "|2012-01-05|          1.3|     8.9|     2.8| 6.1|   rain|      48.0|      37.0|    1|2012|\n",
      "|2012-01-06|          2.5|     4.4|     2.2| 2.2|   rain|      39.9|      36.0|    1|2012|\n",
      "|2012-01-07|          0.0|     7.2|     2.8| 2.3|   rain|      45.0|      37.0|    1|2012|\n",
      "|2012-01-08|          0.0|    10.0|     2.8| 2.0|    sun|      50.0|      37.0|    1|2012|\n",
      "|2012-01-09|          4.3|     9.4|     5.0| 3.4|   rain|      48.9|      41.0|    1|2012|\n",
      "|2012-01-10|          1.0|     6.1|     0.6| 3.4|   rain|      43.0|      33.1|    1|2012|\n",
      "|2012-01-11|          0.0|     6.1|    -1.1| 5.1|    sun|      43.0|      30.0|    1|2012|\n",
      "|2012-01-12|          0.0|     6.1|    -1.7| 1.9|    sun|      43.0|      28.9|    1|2012|\n",
      "|2012-01-13|          0.0|     5.0|    -2.8| 1.3|    sun|      41.0|      27.0|    1|2012|\n",
      "|2012-01-14|          4.1|     4.4|     0.6| 5.3|   snow|      39.9|      33.1|    1|2012|\n",
      "|2012-01-15|          5.3|     1.1|    -3.3| 3.2|   snow|      34.0|      26.1|    1|2012|\n",
      "|2012-01-16|          2.5|     1.7|    -2.8| 5.0|   snow|      35.1|      27.0|    1|2012|\n",
      "|2012-01-17|          8.1|     3.3|     0.0| 5.6|   snow|      37.9|      32.0|    1|2012|\n",
      "|2012-01-18|         19.8|     0.0|    -2.8| 5.0|   snow|      32.0|      27.0|    1|2012|\n",
      "|2012-01-19|         15.2|    -1.1|    -2.8| 1.6|   snow|      30.0|      27.0|    1|2012|\n",
      "|2012-01-20|         13.5|     7.2|    -1.1| 2.3|   snow|      45.0|      30.0|    1|2012|\n",
      "+----------+-------------+--------+--------+----+-------+----------+----------+-----+----+\n",
      "only showing top 20 rows\n",
      "\n"
     ]
    }
   ],
   "source": [
    "#create new column for year\n",
    "\n",
    "weather = weather.withColumn('year', year('date'))\n",
    "weather.show()"
   ]
  },
  {
   "cell_type": "code",
   "execution_count": 18,
   "metadata": {},
   "outputs": [
    {
     "name": "stdout",
     "output_type": "stream",
     "text": [
      "+----------+-------------+--------+--------+----+-------+----------+----------+-----+----+-------+\n",
      "|      date|precipitation|temp_max|temp_min|wind|weather|temp_max_F|temp_min_F|month|year|quarter|\n",
      "+----------+-------------+--------+--------+----+-------+----------+----------+-----+----+-------+\n",
      "|2012-01-01|          0.0|    12.8|     5.0| 4.7|drizzle|      55.0|      41.0|    1|2012|      1|\n",
      "|2012-01-02|         10.9|    10.6|     2.8| 4.5|   rain|      51.1|      37.0|    1|2012|      1|\n",
      "|2012-01-03|          0.8|    11.7|     7.2| 2.3|   rain|      53.1|      45.0|    1|2012|      1|\n",
      "|2012-01-04|         20.3|    12.2|     5.6| 4.7|   rain|      54.0|      42.1|    1|2012|      1|\n",
      "|2012-01-05|          1.3|     8.9|     2.8| 6.1|   rain|      48.0|      37.0|    1|2012|      1|\n",
      "|2012-01-06|          2.5|     4.4|     2.2| 2.2|   rain|      39.9|      36.0|    1|2012|      1|\n",
      "|2012-01-07|          0.0|     7.2|     2.8| 2.3|   rain|      45.0|      37.0|    1|2012|      1|\n",
      "|2012-01-08|          0.0|    10.0|     2.8| 2.0|    sun|      50.0|      37.0|    1|2012|      1|\n",
      "|2012-01-09|          4.3|     9.4|     5.0| 3.4|   rain|      48.9|      41.0|    1|2012|      1|\n",
      "|2012-01-10|          1.0|     6.1|     0.6| 3.4|   rain|      43.0|      33.1|    1|2012|      1|\n",
      "|2012-01-11|          0.0|     6.1|    -1.1| 5.1|    sun|      43.0|      30.0|    1|2012|      1|\n",
      "|2012-01-12|          0.0|     6.1|    -1.7| 1.9|    sun|      43.0|      28.9|    1|2012|      1|\n",
      "|2012-01-13|          0.0|     5.0|    -2.8| 1.3|    sun|      41.0|      27.0|    1|2012|      1|\n",
      "|2012-01-14|          4.1|     4.4|     0.6| 5.3|   snow|      39.9|      33.1|    1|2012|      1|\n",
      "|2012-01-15|          5.3|     1.1|    -3.3| 3.2|   snow|      34.0|      26.1|    1|2012|      1|\n",
      "|2012-01-16|          2.5|     1.7|    -2.8| 5.0|   snow|      35.1|      27.0|    1|2012|      1|\n",
      "|2012-01-17|          8.1|     3.3|     0.0| 5.6|   snow|      37.9|      32.0|    1|2012|      1|\n",
      "|2012-01-18|         19.8|     0.0|    -2.8| 5.0|   snow|      32.0|      27.0|    1|2012|      1|\n",
      "|2012-01-19|         15.2|    -1.1|    -2.8| 1.6|   snow|      30.0|      27.0|    1|2012|      1|\n",
      "|2012-01-20|         13.5|     7.2|    -1.1| 2.3|   snow|      45.0|      30.0|    1|2012|      1|\n",
      "+----------+-------------+--------+--------+----+-------+----------+----------+-----+----+-------+\n",
      "only showing top 20 rows\n",
      "\n"
     ]
    }
   ],
   "source": [
    "#create new column for quarter\n",
    "\n",
    "weather = weather.withColumn('quarter', quarter('date'))\n",
    "weather.show()"
   ]
  },
  {
   "cell_type": "code",
   "execution_count": 19,
   "metadata": {},
   "outputs": [
    {
     "name": "stdout",
     "output_type": "stream",
     "text": [
      "+-----+------------------+\n",
      "|month|avg(precipitation)|\n",
      "+-----+------------------+\n",
      "|   11| 5.354166666666667|\n",
      "+-----+------------------+\n",
      "only showing top 1 row\n",
      "\n"
     ]
    }
   ],
   "source": [
    "#group by month & aggregate by average precipitation\n",
    "# sort by descending and show only the top (greatest) value\n",
    "weather.groupby('month').avg('precipitation').sort(desc('avg(precipitation)')).show(1)\n"
   ]
  },
  {
   "cell_type": "markdown",
   "metadata": {},
   "source": [
    "**- Which year was the windiest?**"
   ]
  },
  {
   "cell_type": "code",
   "execution_count": 20,
   "metadata": {},
   "outputs": [
    {
     "name": "stdout",
     "output_type": "stream",
     "text": [
      "+----+-----------------+\n",
      "|year|        avg(wind)|\n",
      "+----+-----------------+\n",
      "|2012|3.400819672131148|\n",
      "+----+-----------------+\n",
      "only showing top 1 row\n",
      "\n"
     ]
    }
   ],
   "source": [
    "# group by year  & aggregate by average wind value\n",
    "# sort by descending and show only the top (greatest) value\n",
    "weather.groupby('year').avg('wind').sort(desc('avg(wind)')).show(1)"
   ]
  },
  {
   "cell_type": "markdown",
   "metadata": {},
   "source": [
    "**- What is the most frequent type of weather in January?**"
   ]
  },
  {
   "cell_type": "code",
   "execution_count": 21,
   "metadata": {},
   "outputs": [
    {
     "name": "stdout",
     "output_type": "stream",
     "text": [
      "+-------------+-------+---+----+----+---+\n",
      "|month_weather|drizzle|fog|rain|snow|sun|\n",
      "+-------------+-------+---+----+----+---+\n",
      "|            1|     10| 38|  35|   8| 33|\n",
      "+-------------+-------+---+----+----+---+\n",
      "\n"
     ]
    }
   ],
   "source": [
    "#create a crosstab by month (January)\n",
    "weather.where(weather.month == 1).crosstab('month', 'weather').show()"
   ]
  },
  {
   "cell_type": "markdown",
   "metadata": {},
   "source": [
    "**- What is the average high and low temperature on sunny days in July in 2013 and 2014?**"
   ]
  },
  {
   "cell_type": "code",
   "execution_count": 22,
   "metadata": {},
   "outputs": [
    {
     "name": "stdout",
     "output_type": "stream",
     "text": [
      "+----------+-------------+--------+--------+----+-------+----------+----------+-----+----+-------+\n",
      "|      date|precipitation|temp_max|temp_min|wind|weather|temp_max_F|temp_min_F|month|year|quarter|\n",
      "+----------+-------------+--------+--------+----+-------+----------+----------+-----+----+-------+\n",
      "|2013-07-01|          0.0|    31.7|    18.3| 2.3|    sun|      89.1|      64.9|    7|2013|      3|\n",
      "|2013-07-02|          0.0|    28.3|    15.6| 3.0|    sun|      82.9|      60.1|    7|2013|      3|\n",
      "|2013-07-03|          0.0|    26.1|    16.7| 3.2|    sun|      79.0|      62.1|    7|2013|      3|\n",
      "|2013-07-05|          0.0|    23.3|    13.9| 2.6|    sun|      73.9|      57.0|    7|2013|      3|\n",
      "|2013-07-06|          0.0|    26.1|    13.3| 2.2|    sun|      79.0|      55.9|    7|2013|      3|\n",
      "|2013-07-07|          0.0|    23.9|    13.9| 2.9|    sun|      75.0|      57.0|    7|2013|      3|\n",
      "|2013-07-08|          0.0|    26.7|    13.3| 2.8|    sun|      80.1|      55.9|    7|2013|      3|\n",
      "|2013-07-09|          0.0|    30.0|    15.0| 2.5|    sun|      86.0|      59.0|    7|2013|      3|\n",
      "|2013-07-10|          0.0|    22.2|    13.9| 2.6|    sun|      72.0|      57.0|    7|2013|      3|\n",
      "|2013-07-11|          0.0|    22.8|    12.2| 3.0|    sun|      73.0|      54.0|    7|2013|      3|\n",
      "|2013-07-12|          0.0|    19.4|    13.3| 2.2|    sun|      66.9|      55.9|    7|2013|      3|\n",
      "|2013-07-13|          0.0|    26.1|    11.1| 3.1|    sun|      79.0|      52.0|    7|2013|      3|\n",
      "|2013-07-14|          0.0|    27.8|    12.8| 3.0|    sun|      82.0|      55.0|    7|2013|      3|\n",
      "|2013-07-15|          0.0|    27.8|    14.4| 4.6|    sun|      82.0|      57.9|    7|2013|      3|\n",
      "|2013-07-16|          0.0|    31.1|    18.3| 4.1|    sun|      88.0|      64.9|    7|2013|      3|\n",
      "|2013-07-18|          0.0|    26.1|    13.9| 2.0|    sun|      79.0|      57.0|    7|2013|      3|\n",
      "|2013-07-19|          0.0|    27.8|    13.3| 1.9|    sun|      82.0|      55.9|    7|2013|      3|\n",
      "|2013-07-20|          0.0|    25.0|    13.3| 2.0|    sun|      77.0|      55.9|    7|2013|      3|\n",
      "|2013-07-21|          0.0|    23.9|    12.8| 2.3|    sun|      75.0|      55.0|    7|2013|      3|\n",
      "|2013-07-23|          0.0|    31.1|    13.9| 3.0|    sun|      88.0|      57.0|    7|2013|      3|\n",
      "+----------+-------------+--------+--------+----+-------+----------+----------+-----+----+-------+\n",
      "only showing top 20 rows\n",
      "\n"
     ]
    }
   ],
   "source": [
    "sunny_days = weather\\\n",
    "    .where(weather.weather == \"sun\")\\\n",
    "    .where(weather.month == 7)\\\n",
    "    .where((weather.year == 2013) | (weather.year == 2014))\n",
    "\n",
    "sunny_days.show()"
   ]
  },
  {
   "cell_type": "code",
   "execution_count": 23,
   "metadata": {},
   "outputs": [
    {
     "name": "stdout",
     "output_type": "stream",
     "text": [
      "+-----------------+------------------+\n",
      "|   avg_max_temp_F|    avg_min_temp_F|\n",
      "+-----------------+------------------+\n",
      "|80.29423076923078|57.513461538461556|\n",
      "+-----------------+------------------+\n",
      "\n"
     ]
    }
   ],
   "source": [
    "sunny_days.select(avg('temp_max_F').alias('avg_max_temp_F'), avg('temp_min_F').alias('avg_min_temp_F')).show()"
   ]
  },
  {
   "cell_type": "markdown",
   "metadata": {},
   "source": [
    "**- What percentage of days were rainy in q3 of 2015?**"
   ]
  },
  {
   "cell_type": "code",
   "execution_count": 24,
   "metadata": {},
   "outputs": [
    {
     "data": {
      "text/plain": [
       "0.18478260869565216"
      ]
     },
     "execution_count": 24,
     "metadata": {},
     "output_type": "execute_result"
    }
   ],
   "source": [
    "# create variable for months 7,8,9 to represent third quarter\n",
    "q3 = weather.where(weather.year == 2015).where(weather.quarter == 3) \n",
    "\n",
    "# divide to find percentage\n",
    "q3.where(q3.precipitation > 0).count() / q3.count()\n"
   ]
  },
  {
   "cell_type": "markdown",
   "metadata": {},
   "source": [
    "**- For each year, find what percentage of days it rained (had non-zero precipitation).**"
   ]
  },
  {
   "cell_type": "code",
   "execution_count": 25,
   "metadata": {},
   "outputs": [],
   "source": [
    "#create dataframe of rainy days grouped by year\n",
    "rainy_days = weather.where(weather.precipitation > 0).groupby('year').count()"
   ]
  },
  {
   "cell_type": "code",
   "execution_count": 26,
   "metadata": {},
   "outputs": [
    {
     "name": "stdout",
     "output_type": "stream",
     "text": [
      "+------------------+----+\n",
      "|pct_year_with_rain|year|\n",
      "+------------------+----+\n",
      "|              0.39|2015|\n",
      "|              0.42|2013|\n",
      "|              0.41|2014|\n",
      "|              0.48|2012|\n",
      "+------------------+----+\n",
      "\n"
     ]
    }
   ],
   "source": [
    "rainy_days.select(round(rainy_days['count'] / 365,2).alias('pct_year_with_rain'), 'year').show()"
   ]
  },
  {
   "cell_type": "code",
   "execution_count": null,
   "metadata": {},
   "outputs": [],
   "source": []
  }
 ],
 "metadata": {
  "kernelspec": {
   "display_name": "Python 3",
   "language": "python",
   "name": "python3"
  },
  "language_info": {
   "codemirror_mode": {
    "name": "ipython",
    "version": 3
   },
   "file_extension": ".py",
   "mimetype": "text/x-python",
   "name": "python",
   "nbconvert_exporter": "python",
   "pygments_lexer": "ipython3",
   "version": "3.8.5"
  }
 },
 "nbformat": 4,
 "nbformat_minor": 4
}
